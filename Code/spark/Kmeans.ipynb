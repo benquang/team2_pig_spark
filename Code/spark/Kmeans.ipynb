{
 "cells": [
  {
   "cell_type": "code",
   "execution_count": 1,
   "metadata": {},
   "outputs": [],
   "source": [
    "import os\n",
    "import sys\n",
    "import pyspark\n",
    "from pyspark.sql import SparkSession\n",
    "from pyspark.sql.functions import col\n",
    "from pyspark.sql.types import IntegerType,StringType,DoubleType\n",
    "from pyspark.ml.evaluation import ClusteringEvaluator\n",
    "from subprocess import PIPE, Popen\n",
    "os.environ['PYSPARK_PYTHON'] = sys.executable\n",
    "os.environ['PYSPARK_DRIVER_PYTHON'] = sys.executable\n",
    "spark = SparkSession.builder.getOrCreate()"
   ]
  },
  {
   "cell_type": "code",
   "execution_count": 2,
   "metadata": {},
   "outputs": [],
   "source": [
    "from pyspark.ml.clustering import KMeans\n",
    "from pyspark.ml.evaluation import ClusteringEvaluator\n",
    "from pyspark.ml.feature import VectorAssembler,StandardScaler\n",
    "# Loads data.\n",
    "dataset4 = spark.read.csv(\"hdfs://localhost:9000/spark_output/Kmean4.csv\", sep=',' ,lineSep= '\\r\\n',header=True) #carriage return (con trỏ về đầu dòng)\n",
    "dataset5 = spark.read.csv(\"hdfs://localhost:9000/spark_output/Kmean5.csv\", sep=',' ,lineSep= '\\r\\n',header=True)\n",
    "\n",
    "dataset4 = dataset4.withColumn(\"CustomerNo\", dataset4[\"CustomerNo\"].cast(IntegerType()))\n",
    "dataset4 = dataset4.withColumn(\"CustomerNo\", dataset4[\"CustomerNo\"].cast(StringType()))\n",
    "dataset4 = dataset4.withColumn(\"TotalQuantity\", dataset4[\"TotalQuantity\"].cast(IntegerType()))\n",
    "dataset4 = dataset4.withColumn(\"TotalMoney\", dataset4[\"TotalMoney\"].cast(DoubleType()))\n",
    "dataset4 = dataset4.withColumn(\"prediction\", dataset4[\"prediction\"].cast(IntegerType()))\n",
    "\n",
    "dataset5 = dataset5.withColumn(\"CustomerNo\", dataset5[\"CustomerNo\"].cast(IntegerType()))\n",
    "dataset5 = dataset5.withColumn(\"CustomerNo\", dataset5[\"CustomerNo\"].cast(StringType()))\n",
    "dataset5 = dataset5.withColumn(\"TotalQuantity\", dataset5[\"TotalQuantity\"].cast(IntegerType()))\n",
    "dataset5 = dataset5.withColumn(\"TotalMoney\", dataset5[\"TotalMoney\"].cast(DoubleType()))\n",
    "dataset5 = dataset5.withColumn(\"prediction\", dataset5[\"prediction\"].cast(IntegerType()))"
   ]
  },
  {
   "cell_type": "code",
   "execution_count": 3,
   "metadata": {},
   "outputs": [
    {
     "name": "stdout",
     "output_type": "stream",
     "text": [
      "<class 'pandas.core.frame.DataFrame'>\n",
      "RangeIndex: 4718 entries, 0 to 4717\n",
      "Data columns (total 4 columns):\n",
      " #   Column         Non-Null Count  Dtype  \n",
      "---  ------         --------------  -----  \n",
      " 0   CustomerNo     4718 non-null   object \n",
      " 1   TotalQuantity  4718 non-null   int32  \n",
      " 2   TotalMoney     4718 non-null   float64\n",
      " 3   prediction     4718 non-null   int32  \n",
      "dtypes: float64(1), int32(2), object(1)\n",
      "memory usage: 110.7+ KB\n"
     ]
    }
   ],
   "source": [
    "dataset4 = dataset4.toPandas()\n",
    "dataset4.head()\n",
    "dataset4.info()"
   ]
  },
  {
   "cell_type": "code",
   "execution_count": 4,
   "metadata": {},
   "outputs": [
    {
     "data": {
      "text/html": [
       "<div>\n",
       "<style scoped>\n",
       "    .dataframe tbody tr th:only-of-type {\n",
       "        vertical-align: middle;\n",
       "    }\n",
       "\n",
       "    .dataframe tbody tr th {\n",
       "        vertical-align: top;\n",
       "    }\n",
       "\n",
       "    .dataframe thead th {\n",
       "        text-align: right;\n",
       "    }\n",
       "</style>\n",
       "<table border=\"1\" class=\"dataframe\">\n",
       "  <thead>\n",
       "    <tr style=\"text-align: right;\">\n",
       "      <th></th>\n",
       "      <th>CustomerNo</th>\n",
       "      <th>TotalQuantity</th>\n",
       "      <th>TotalMoney</th>\n",
       "      <th>prediction</th>\n",
       "    </tr>\n",
       "  </thead>\n",
       "  <tbody>\n",
       "    <tr>\n",
       "      <th>0</th>\n",
       "      <td>12004</td>\n",
       "      <td>104</td>\n",
       "      <td>1509.60</td>\n",
       "      <td>0</td>\n",
       "    </tr>\n",
       "    <tr>\n",
       "      <th>1</th>\n",
       "      <td>12006</td>\n",
       "      <td>2</td>\n",
       "      <td>24.76</td>\n",
       "      <td>0</td>\n",
       "    </tr>\n",
       "    <tr>\n",
       "      <th>2</th>\n",
       "      <td>12008</td>\n",
       "      <td>421</td>\n",
       "      <td>5689.57</td>\n",
       "      <td>0</td>\n",
       "    </tr>\n",
       "    <tr>\n",
       "      <th>3</th>\n",
       "      <td>12013</td>\n",
       "      <td>3</td>\n",
       "      <td>69.96</td>\n",
       "      <td>0</td>\n",
       "    </tr>\n",
       "    <tr>\n",
       "      <th>4</th>\n",
       "      <td>12024</td>\n",
       "      <td>14</td>\n",
       "      <td>149.52</td>\n",
       "      <td>0</td>\n",
       "    </tr>\n",
       "  </tbody>\n",
       "</table>\n",
       "</div>"
      ],
      "text/plain": [
       "  CustomerNo  TotalQuantity  TotalMoney  prediction\n",
       "0      12004            104     1509.60           0\n",
       "1      12006              2       24.76           0\n",
       "2      12008            421     5689.57           0\n",
       "3      12013              3       69.96           0\n",
       "4      12024             14      149.52           0"
      ]
     },
     "execution_count": 4,
     "metadata": {},
     "output_type": "execute_result"
    }
   ],
   "source": [
    "dataset5 = dataset5.toPandas()\n",
    "dataset5.head()"
   ]
  },
  {
   "cell_type": "code",
   "execution_count": 5,
   "metadata": {},
   "outputs": [
    {
     "data": {
      "text/plain": [
       "<matplotlib.collections.PathCollection at 0x1d84de3ba30>"
      ]
     },
     "execution_count": 5,
     "metadata": {},
     "output_type": "execute_result"
    },
    {
     "data": {
      "image/png": "[encoded data removed]",
      "text/plain": [
       "<Figure size 640x480 with 1 Axes>"
      ]
     },
     "metadata": {},
     "output_type": "display_data"
    }
   ],
   "source": [
    "import matplotlib.pyplot as plt\n",
    "plt.scatter(dataset4['TotalQuantity'],dataset4['TotalMoney'],c=dataset4['prediction'],cmap='rainbow')"
   ]
  },
  {
   "cell_type": "code",
   "execution_count": 6,
   "metadata": {},
   "outputs": [
    {
     "data": {
      "text/plain": [
       "<matplotlib.collections.PathCollection at 0x1d85006bdf0>"
      ]
     },
     "execution_count": 6,
     "metadata": {},
     "output_type": "execute_result"
    },
    {
     "data": {
      "image/png": "[encoded data removed]",
      "text/plain": [
       "<Figure size 640x480 with 1 Axes>"
      ]
     },
     "metadata": {},
     "output_type": "display_data"
    }
   ],
   "source": [
    "plt.scatter(dataset5['TotalQuantity'],dataset5['TotalMoney'],c=dataset5['prediction'],cmap='rainbow')"
   ]
  },
  {
   "cell_type": "code",
   "execution_count": 8,
   "metadata": {},
   "outputs": [],
   "source": []
  }
 ],
 "metadata": {
  "kernelspec": {
   "display_name": "Python 3",
   "language": "python",
   "name": "python3"
  },
  "language_info": {
   "codemirror_mode": {
    "name": "ipython",
    "version": 3
   },
   "file_extension": ".py",
   "mimetype": "text/x-python",
   "name": "python",
   "nbconvert_exporter": "python",
   "pygments_lexer": "ipython3",
   "version": "3.10.9"
  },
  "orig_nbformat": 4
 },
 "nbformat": 4,
 "nbformat_minor": 2
}
